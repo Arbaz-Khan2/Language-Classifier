{
  "cells": [
    {
      "cell_type": "markdown",
      "metadata": {
        "id": "RI3-Xmuu5UNz"
      },
      "source": [
        "**Installing the required library.**"
      ]
    },
    {
      "cell_type": "code",
      "execution_count": 1,
      "metadata": {
        "colab": {
          "base_uri": "https://localhost:8080/"
        },
        "id": "QnOFUUTn5bOp",
        "outputId": "1d878219-1809-4b25-a472-b354c6eed7cc"
      },
      "outputs": [
        {
          "output_type": "stream",
          "name": "stdout",
          "text": [
            "Collecting python_speech_features\n",
            "  Downloading python_speech_features-0.6.tar.gz (5.6 kB)\n",
            "Building wheels for collected packages: python-speech-features\n",
            "  Building wheel for python-speech-features (setup.py) ... \u001b[?25l\u001b[?25hdone\n",
            "  Created wheel for python-speech-features: filename=python_speech_features-0.6-py3-none-any.whl size=5888 sha256=1e773d0ed26fad1f24136f5509a459f9983ec4e9453fbe1f94c83f9fa7232266\n",
            "  Stored in directory: /root/.cache/pip/wheels/b0/0e/94/28cd6afa3cd5998a63eef99fe31777acd7d758f59cf24839eb\n",
            "Successfully built python-speech-features\n",
            "Installing collected packages: python-speech-features\n",
            "Successfully installed python-speech-features-0.6\n"
          ]
        }
      ],
      "source": [
        "!pip install python_speech_features"
      ]
    },
    {
      "cell_type": "markdown",
      "metadata": {
        "id": "Rj66P1f15cMo"
      },
      "source": [
        "**Load the required libraries.**"
      ]
    },
    {
      "cell_type": "code",
      "execution_count": 2,
      "metadata": {
        "id": "CbEfmo_H5exz"
      },
      "outputs": [],
      "source": [
        "import python_speech_features as mfcc\n",
        "from scipy.io.wavfile import read\n",
        "import numpy as np\n",
        "import glob\n",
        "import pandas as pd\n",
        "from google.colab import drive\n",
        "from matplotlib import pyplot as plt"
      ]
    },
    {
      "cell_type": "code",
      "execution_count": 3,
      "metadata": {
        "id": "pw0SI4jFfvL2"
      },
      "outputs": [],
      "source": [
        "# importing logging because data frame was giving warnings\n",
        "import logging\n",
        "logger = logging.getLogger()\n",
        "logger.setLevel(logging.ERROR)"
      ]
    },
    {
      "cell_type": "code",
      "execution_count": 4,
      "metadata": {
        "colab": {
          "base_uri": "https://localhost:8080/"
        },
        "id": "uovwrh4CWePa",
        "outputId": "69156001-9073-447f-bed5-2cbc56417a06"
      },
      "outputs": [
        {
          "output_type": "stream",
          "name": "stdout",
          "text": [
            "Mounted at /content/gdrive\n"
          ]
        }
      ],
      "source": [
        "drive.mount('/content/gdrive')"
      ]
    },
    {
      "cell_type": "code",
      "execution_count": 5,
      "metadata": {
        "colab": {
          "base_uri": "https://localhost:8080/"
        },
        "id": "x1seTE2EWxnc",
        "outputId": "6b32641c-c34b-4675-e109-910f14f6db24"
      },
      "outputs": [
        {
          "output_type": "stream",
          "name": "stdout",
          "text": [
            "17379\n"
          ]
        }
      ],
      "source": [
        "all_files = glob.glob(f\"/content/gdrive/My Drive/Recordings\" + '/*.wav')\n",
        "print(len(all_files))"
      ]
    },
    {
      "cell_type": "markdown",
      "metadata": {
        "id": "bVBkI6gT5hCL"
      },
      "source": [
        "**MFCC Function**"
      ]
    },
    {
      "cell_type": "code",
      "execution_count": 6,
      "metadata": {
        "id": "UjsQwVpS5kgH"
      },
      "outputs": [],
      "source": [
        "def get_MFCC(audio, sr):\n",
        "    features = mfcc.mfcc(audio, sr, 0.025, 0.01, 13, appendEnergy = True)\n",
        "    return np.mean(features, axis=0)"
      ]
    },
    {
      "cell_type": "code",
      "execution_count": 7,
      "metadata": {
        "colab": {
          "base_uri": "https://localhost:8080/"
        },
        "id": "DpaRx4tnX1J7",
        "outputId": "2422a22c-ce39-4211-8be8-d2ecaaacecb4"
      },
      "outputs": [
        {
          "output_type": "stream",
          "name": "stderr",
          "text": [
            "/usr/local/lib/python3.7/dist-packages/ipykernel_launcher.py:4: WavFileWarning: Chunk (non-data) not understood, skipping it.\n",
            "  after removing the cwd from sys.path.\n"
          ]
        }
      ],
      "source": [
        "# making a datafrmae using the the list of files and also adding the class of each file\n",
        "dataSet = pd.DataFrame(columns=['x1', 'x2', 'x3', 'x4', 'x5', 'x6', 'x7', 'x8', 'x9', 'x10', 'x11', 'x12', 'x13', 'class'])\n",
        "for i in all_files:\n",
        "    sr, audio = read(i)\n",
        "    features = get_MFCC(audio, sr)\n",
        "    c = -1\n",
        "    if \"en-\" in i or \"en_\" in i:\n",
        "        c = 0\n",
        "    if \"ur-\" in i or \"ur_\" in i:\n",
        "        c = 1\n",
        "    if \"ue-\" in i or \"ue_\" in i:\n",
        "        c = 2\n",
        "    if c != -1:\n",
        "        dataSet = dataSet.append({'x1': features[0], 'x2': features[1], 'x3': features[2], 'x4': features[3], 'x5': features[4], 'x6': features[5], 'x7': features[6], 'x8': features[7], 'x9': features[8], 'x10': features[9], 'x11': features[10], 'x12': features[11], 'x13': features[12], 'class': c}, ignore_index=True)"
      ]
    },
    {
      "cell_type": "code",
      "execution_count": 8,
      "metadata": {
        "colab": {
          "base_uri": "https://localhost:8080/",
          "height": 424
        },
        "id": "rKCdiEX75vQf",
        "outputId": "15dfea5b-40ed-4801-ce83-e6984ed717ac"
      },
      "outputs": [
        {
          "output_type": "execute_result",
          "data": {
            "text/html": [
              "<div>\n",
              "<style scoped>\n",
              "    .dataframe tbody tr th:only-of-type {\n",
              "        vertical-align: middle;\n",
              "    }\n",
              "\n",
              "    .dataframe tbody tr th {\n",
              "        vertical-align: top;\n",
              "    }\n",
              "\n",
              "    .dataframe thead th {\n",
              "        text-align: right;\n",
              "    }\n",
              "</style>\n",
              "<table border=\"1\" class=\"dataframe\">\n",
              "  <thead>\n",
              "    <tr style=\"text-align: right;\">\n",
              "      <th></th>\n",
              "      <th>x1</th>\n",
              "      <th>x2</th>\n",
              "      <th>x3</th>\n",
              "      <th>x4</th>\n",
              "      <th>x5</th>\n",
              "      <th>x6</th>\n",
              "      <th>x7</th>\n",
              "      <th>x8</th>\n",
              "      <th>x9</th>\n",
              "      <th>x10</th>\n",
              "      <th>x11</th>\n",
              "      <th>x12</th>\n",
              "      <th>x13</th>\n",
              "      <th>class</th>\n",
              "    </tr>\n",
              "  </thead>\n",
              "  <tbody>\n",
              "    <tr>\n",
              "      <th>0</th>\n",
              "      <td>15.420616</td>\n",
              "      <td>-1.106523</td>\n",
              "      <td>-3.854466</td>\n",
              "      <td>3.577854</td>\n",
              "      <td>-1.386421</td>\n",
              "      <td>-6.628898</td>\n",
              "      <td>-11.955851</td>\n",
              "      <td>-7.753118</td>\n",
              "      <td>-2.687607</td>\n",
              "      <td>-10.298835</td>\n",
              "      <td>6.917660</td>\n",
              "      <td>-7.851081</td>\n",
              "      <td>-6.799251</td>\n",
              "      <td>1.0</td>\n",
              "    </tr>\n",
              "    <tr>\n",
              "      <th>1</th>\n",
              "      <td>15.420616</td>\n",
              "      <td>-1.106523</td>\n",
              "      <td>-3.854466</td>\n",
              "      <td>3.577854</td>\n",
              "      <td>-1.386421</td>\n",
              "      <td>-6.628898</td>\n",
              "      <td>-11.955851</td>\n",
              "      <td>-7.753118</td>\n",
              "      <td>-2.687607</td>\n",
              "      <td>-10.298835</td>\n",
              "      <td>6.917660</td>\n",
              "      <td>-7.851081</td>\n",
              "      <td>-6.799251</td>\n",
              "      <td>1.0</td>\n",
              "    </tr>\n",
              "    <tr>\n",
              "      <th>2</th>\n",
              "      <td>15.643362</td>\n",
              "      <td>-0.229043</td>\n",
              "      <td>-3.130625</td>\n",
              "      <td>-1.625388</td>\n",
              "      <td>-0.224217</td>\n",
              "      <td>0.416528</td>\n",
              "      <td>-6.852738</td>\n",
              "      <td>-9.243361</td>\n",
              "      <td>1.486968</td>\n",
              "      <td>-4.285490</td>\n",
              "      <td>16.338480</td>\n",
              "      <td>-4.966220</td>\n",
              "      <td>-10.124564</td>\n",
              "      <td>1.0</td>\n",
              "    </tr>\n",
              "    <tr>\n",
              "      <th>3</th>\n",
              "      <td>15.643362</td>\n",
              "      <td>-0.229043</td>\n",
              "      <td>-3.130625</td>\n",
              "      <td>-1.625388</td>\n",
              "      <td>-0.224217</td>\n",
              "      <td>0.416528</td>\n",
              "      <td>-6.852738</td>\n",
              "      <td>-9.243361</td>\n",
              "      <td>1.486968</td>\n",
              "      <td>-4.285490</td>\n",
              "      <td>16.338480</td>\n",
              "      <td>-4.966220</td>\n",
              "      <td>-10.124564</td>\n",
              "      <td>1.0</td>\n",
              "    </tr>\n",
              "    <tr>\n",
              "      <th>4</th>\n",
              "      <td>15.643362</td>\n",
              "      <td>-0.229043</td>\n",
              "      <td>-3.130625</td>\n",
              "      <td>-1.625388</td>\n",
              "      <td>-0.224217</td>\n",
              "      <td>0.416528</td>\n",
              "      <td>-6.852738</td>\n",
              "      <td>-9.243361</td>\n",
              "      <td>1.486968</td>\n",
              "      <td>-4.285490</td>\n",
              "      <td>16.338480</td>\n",
              "      <td>-4.966220</td>\n",
              "      <td>-10.124564</td>\n",
              "      <td>1.0</td>\n",
              "    </tr>\n",
              "    <tr>\n",
              "      <th>...</th>\n",
              "      <td>...</td>\n",
              "      <td>...</td>\n",
              "      <td>...</td>\n",
              "      <td>...</td>\n",
              "      <td>...</td>\n",
              "      <td>...</td>\n",
              "      <td>...</td>\n",
              "      <td>...</td>\n",
              "      <td>...</td>\n",
              "      <td>...</td>\n",
              "      <td>...</td>\n",
              "      <td>...</td>\n",
              "      <td>...</td>\n",
              "      <td>...</td>\n",
              "    </tr>\n",
              "    <tr>\n",
              "      <th>17374</th>\n",
              "      <td>12.792125</td>\n",
              "      <td>-7.911104</td>\n",
              "      <td>-11.009741</td>\n",
              "      <td>5.922262</td>\n",
              "      <td>-8.259737</td>\n",
              "      <td>-1.410583</td>\n",
              "      <td>-15.554617</td>\n",
              "      <td>-15.372664</td>\n",
              "      <td>-2.530352</td>\n",
              "      <td>-5.918442</td>\n",
              "      <td>-2.580511</td>\n",
              "      <td>-3.292523</td>\n",
              "      <td>-3.056571</td>\n",
              "      <td>1.0</td>\n",
              "    </tr>\n",
              "    <tr>\n",
              "      <th>17375</th>\n",
              "      <td>13.720188</td>\n",
              "      <td>-11.402813</td>\n",
              "      <td>-11.325706</td>\n",
              "      <td>3.983313</td>\n",
              "      <td>-7.455342</td>\n",
              "      <td>-3.671909</td>\n",
              "      <td>-15.862445</td>\n",
              "      <td>-15.744310</td>\n",
              "      <td>0.200963</td>\n",
              "      <td>3.158964</td>\n",
              "      <td>2.918506</td>\n",
              "      <td>-4.339300</td>\n",
              "      <td>-7.697900</td>\n",
              "      <td>1.0</td>\n",
              "    </tr>\n",
              "    <tr>\n",
              "      <th>17376</th>\n",
              "      <td>13.512430</td>\n",
              "      <td>-6.669017</td>\n",
              "      <td>-9.888639</td>\n",
              "      <td>4.662860</td>\n",
              "      <td>-14.662137</td>\n",
              "      <td>-5.392384</td>\n",
              "      <td>-14.575046</td>\n",
              "      <td>-12.648510</td>\n",
              "      <td>3.306230</td>\n",
              "      <td>-4.056787</td>\n",
              "      <td>4.018101</td>\n",
              "      <td>1.277110</td>\n",
              "      <td>-9.139446</td>\n",
              "      <td>1.0</td>\n",
              "    </tr>\n",
              "    <tr>\n",
              "      <th>17377</th>\n",
              "      <td>13.507047</td>\n",
              "      <td>-9.687303</td>\n",
              "      <td>-8.127189</td>\n",
              "      <td>3.346995</td>\n",
              "      <td>-12.033723</td>\n",
              "      <td>-6.361372</td>\n",
              "      <td>-16.998146</td>\n",
              "      <td>-12.991586</td>\n",
              "      <td>3.368223</td>\n",
              "      <td>-4.726273</td>\n",
              "      <td>2.225458</td>\n",
              "      <td>3.776183</td>\n",
              "      <td>-9.071092</td>\n",
              "      <td>1.0</td>\n",
              "    </tr>\n",
              "    <tr>\n",
              "      <th>17378</th>\n",
              "      <td>12.873085</td>\n",
              "      <td>-7.512769</td>\n",
              "      <td>-9.467413</td>\n",
              "      <td>4.601516</td>\n",
              "      <td>-9.554194</td>\n",
              "      <td>-5.635490</td>\n",
              "      <td>-18.552069</td>\n",
              "      <td>-14.932707</td>\n",
              "      <td>3.516842</td>\n",
              "      <td>1.039038</td>\n",
              "      <td>3.808238</td>\n",
              "      <td>-1.950260</td>\n",
              "      <td>-5.106677</td>\n",
              "      <td>1.0</td>\n",
              "    </tr>\n",
              "  </tbody>\n",
              "</table>\n",
              "<p>17379 rows × 14 columns</p>\n",
              "</div>"
            ],
            "text/plain": [
              "              x1         x2         x3  ...       x12        x13  class\n",
              "0      15.420616  -1.106523  -3.854466  ... -7.851081  -6.799251    1.0\n",
              "1      15.420616  -1.106523  -3.854466  ... -7.851081  -6.799251    1.0\n",
              "2      15.643362  -0.229043  -3.130625  ... -4.966220 -10.124564    1.0\n",
              "3      15.643362  -0.229043  -3.130625  ... -4.966220 -10.124564    1.0\n",
              "4      15.643362  -0.229043  -3.130625  ... -4.966220 -10.124564    1.0\n",
              "...          ...        ...        ...  ...       ...        ...    ...\n",
              "17374  12.792125  -7.911104 -11.009741  ... -3.292523  -3.056571    1.0\n",
              "17375  13.720188 -11.402813 -11.325706  ... -4.339300  -7.697900    1.0\n",
              "17376  13.512430  -6.669017  -9.888639  ...  1.277110  -9.139446    1.0\n",
              "17377  13.507047  -9.687303  -8.127189  ...  3.776183  -9.071092    1.0\n",
              "17378  12.873085  -7.512769  -9.467413  ... -1.950260  -5.106677    1.0\n",
              "\n",
              "[17379 rows x 14 columns]"
            ]
          },
          "metadata": {},
          "execution_count": 8
        }
      ],
      "source": [
        "dataSet"
      ]
    },
    {
      "cell_type": "code",
      "execution_count": 9,
      "metadata": {
        "id": "kVRYIm21zVC6"
      },
      "outputs": [],
      "source": [
        "df0 = dataSet[dataSet['class'] == 0]\n",
        "df1 = dataSet[dataSet['class'] == 1]\n",
        "df2 = dataSet[dataSet['class'] == 2]"
      ]
    },
    {
      "cell_type": "code",
      "execution_count": 10,
      "metadata": {
        "id": "-kNhaP2zzVUg"
      },
      "outputs": [],
      "source": [
        "train0 = df0.sample(frac=0.8, random_state=42)\n",
        "test0 = df0.drop(train0.index)\n",
        "train1 = df1.sample(frac=0.8, random_state=42)\n",
        "test1 = df1.drop(train1.index)\n",
        "train2 = df2.sample(frac=0.8, random_state=42)\n",
        "test2 = df2.drop(train2.index)"
      ]
    },
    {
      "cell_type": "code",
      "execution_count": 11,
      "metadata": {
        "id": "-nT4IOM92A1i"
      },
      "outputs": [],
      "source": [
        "train = pd.concat([train0, train1, train2], axis=0)\n",
        "test = pd.concat([test0, test1, test2], axis=0)\n",
        "train = train.sample(frac=1)\n",
        "test = test.sample(frac=1)\n",
        "train.reset_index(drop=True, inplace=True)\n",
        "test.reset_index(drop=True, inplace=True)"
      ]
    },
    {
      "cell_type": "code",
      "execution_count": 12,
      "metadata": {
        "colab": {
          "base_uri": "https://localhost:8080/",
          "height": 424
        },
        "id": "OAmuCW9Y2lE9",
        "outputId": "68fe6796-9f99-4ecb-d6df-19d74db285dd"
      },
      "outputs": [
        {
          "output_type": "execute_result",
          "data": {
            "text/html": [
              "<div>\n",
              "<style scoped>\n",
              "    .dataframe tbody tr th:only-of-type {\n",
              "        vertical-align: middle;\n",
              "    }\n",
              "\n",
              "    .dataframe tbody tr th {\n",
              "        vertical-align: top;\n",
              "    }\n",
              "\n",
              "    .dataframe thead th {\n",
              "        text-align: right;\n",
              "    }\n",
              "</style>\n",
              "<table border=\"1\" class=\"dataframe\">\n",
              "  <thead>\n",
              "    <tr style=\"text-align: right;\">\n",
              "      <th></th>\n",
              "      <th>x1</th>\n",
              "      <th>x2</th>\n",
              "      <th>x3</th>\n",
              "      <th>x4</th>\n",
              "      <th>x5</th>\n",
              "      <th>x6</th>\n",
              "      <th>x7</th>\n",
              "      <th>x8</th>\n",
              "      <th>x9</th>\n",
              "      <th>x10</th>\n",
              "      <th>x11</th>\n",
              "      <th>x12</th>\n",
              "      <th>x13</th>\n",
              "      <th>class</th>\n",
              "    </tr>\n",
              "  </thead>\n",
              "  <tbody>\n",
              "    <tr>\n",
              "      <th>0</th>\n",
              "      <td>16.201308</td>\n",
              "      <td>1.319581</td>\n",
              "      <td>-5.111306</td>\n",
              "      <td>-4.071243</td>\n",
              "      <td>-14.515750</td>\n",
              "      <td>-19.028973</td>\n",
              "      <td>-22.240286</td>\n",
              "      <td>-12.248209</td>\n",
              "      <td>-5.027565</td>\n",
              "      <td>4.323473</td>\n",
              "      <td>-8.683477</td>\n",
              "      <td>-10.609682</td>\n",
              "      <td>-0.506709</td>\n",
              "      <td>0.0</td>\n",
              "    </tr>\n",
              "    <tr>\n",
              "      <th>1</th>\n",
              "      <td>13.441872</td>\n",
              "      <td>-0.514658</td>\n",
              "      <td>-10.127126</td>\n",
              "      <td>6.703724</td>\n",
              "      <td>-13.970037</td>\n",
              "      <td>-20.386062</td>\n",
              "      <td>-18.149803</td>\n",
              "      <td>-14.569009</td>\n",
              "      <td>0.255921</td>\n",
              "      <td>-10.511090</td>\n",
              "      <td>0.352601</td>\n",
              "      <td>0.186471</td>\n",
              "      <td>-12.314925</td>\n",
              "      <td>1.0</td>\n",
              "    </tr>\n",
              "    <tr>\n",
              "      <th>2</th>\n",
              "      <td>14.348592</td>\n",
              "      <td>-6.387910</td>\n",
              "      <td>-7.370324</td>\n",
              "      <td>-2.644048</td>\n",
              "      <td>-11.235419</td>\n",
              "      <td>-2.473244</td>\n",
              "      <td>-12.501751</td>\n",
              "      <td>-5.645054</td>\n",
              "      <td>-10.881376</td>\n",
              "      <td>-10.312623</td>\n",
              "      <td>-14.454989</td>\n",
              "      <td>-1.209222</td>\n",
              "      <td>-10.936381</td>\n",
              "      <td>2.0</td>\n",
              "    </tr>\n",
              "    <tr>\n",
              "      <th>3</th>\n",
              "      <td>14.331497</td>\n",
              "      <td>-0.331736</td>\n",
              "      <td>-3.411798</td>\n",
              "      <td>-2.259657</td>\n",
              "      <td>-0.192586</td>\n",
              "      <td>-1.159961</td>\n",
              "      <td>-7.106523</td>\n",
              "      <td>-8.310903</td>\n",
              "      <td>0.791856</td>\n",
              "      <td>-7.731586</td>\n",
              "      <td>4.655036</td>\n",
              "      <td>-5.285241</td>\n",
              "      <td>-7.684324</td>\n",
              "      <td>1.0</td>\n",
              "    </tr>\n",
              "    <tr>\n",
              "      <th>4</th>\n",
              "      <td>14.621738</td>\n",
              "      <td>-3.173315</td>\n",
              "      <td>1.708869</td>\n",
              "      <td>-3.473783</td>\n",
              "      <td>-3.284796</td>\n",
              "      <td>-9.777825</td>\n",
              "      <td>-4.875456</td>\n",
              "      <td>-14.482121</td>\n",
              "      <td>1.345331</td>\n",
              "      <td>-13.462105</td>\n",
              "      <td>-4.742579</td>\n",
              "      <td>-11.623953</td>\n",
              "      <td>-8.353573</td>\n",
              "      <td>1.0</td>\n",
              "    </tr>\n",
              "    <tr>\n",
              "      <th>...</th>\n",
              "      <td>...</td>\n",
              "      <td>...</td>\n",
              "      <td>...</td>\n",
              "      <td>...</td>\n",
              "      <td>...</td>\n",
              "      <td>...</td>\n",
              "      <td>...</td>\n",
              "      <td>...</td>\n",
              "      <td>...</td>\n",
              "      <td>...</td>\n",
              "      <td>...</td>\n",
              "      <td>...</td>\n",
              "      <td>...</td>\n",
              "      <td>...</td>\n",
              "    </tr>\n",
              "    <tr>\n",
              "      <th>13899</th>\n",
              "      <td>14.357939</td>\n",
              "      <td>7.543944</td>\n",
              "      <td>-1.088752</td>\n",
              "      <td>7.757970</td>\n",
              "      <td>5.044227</td>\n",
              "      <td>-16.222761</td>\n",
              "      <td>1.868213</td>\n",
              "      <td>-10.737932</td>\n",
              "      <td>-14.250531</td>\n",
              "      <td>1.361290</td>\n",
              "      <td>-3.285875</td>\n",
              "      <td>-0.737387</td>\n",
              "      <td>-7.590883</td>\n",
              "      <td>2.0</td>\n",
              "    </tr>\n",
              "    <tr>\n",
              "      <th>13900</th>\n",
              "      <td>15.994212</td>\n",
              "      <td>-5.502135</td>\n",
              "      <td>-2.019694</td>\n",
              "      <td>-1.548316</td>\n",
              "      <td>-4.560579</td>\n",
              "      <td>-10.889679</td>\n",
              "      <td>-15.777394</td>\n",
              "      <td>-10.040295</td>\n",
              "      <td>4.137918</td>\n",
              "      <td>-17.707570</td>\n",
              "      <td>-8.296197</td>\n",
              "      <td>2.467190</td>\n",
              "      <td>-4.218726</td>\n",
              "      <td>2.0</td>\n",
              "    </tr>\n",
              "    <tr>\n",
              "      <th>13901</th>\n",
              "      <td>15.384082</td>\n",
              "      <td>12.272051</td>\n",
              "      <td>-19.196599</td>\n",
              "      <td>-6.630442</td>\n",
              "      <td>-18.708450</td>\n",
              "      <td>-21.427024</td>\n",
              "      <td>-4.560739</td>\n",
              "      <td>-3.217198</td>\n",
              "      <td>-10.171993</td>\n",
              "      <td>-10.525011</td>\n",
              "      <td>-6.001002</td>\n",
              "      <td>-2.820961</td>\n",
              "      <td>-6.420600</td>\n",
              "      <td>2.0</td>\n",
              "    </tr>\n",
              "    <tr>\n",
              "      <th>13902</th>\n",
              "      <td>12.892739</td>\n",
              "      <td>-6.686172</td>\n",
              "      <td>2.322560</td>\n",
              "      <td>-1.767230</td>\n",
              "      <td>-5.619896</td>\n",
              "      <td>0.013195</td>\n",
              "      <td>-11.138115</td>\n",
              "      <td>-6.586972</td>\n",
              "      <td>-11.443729</td>\n",
              "      <td>-9.001641</td>\n",
              "      <td>-5.755665</td>\n",
              "      <td>-9.320735</td>\n",
              "      <td>-8.058829</td>\n",
              "      <td>2.0</td>\n",
              "    </tr>\n",
              "    <tr>\n",
              "      <th>13903</th>\n",
              "      <td>10.053983</td>\n",
              "      <td>-6.416824</td>\n",
              "      <td>-0.175697</td>\n",
              "      <td>-2.992986</td>\n",
              "      <td>-7.493774</td>\n",
              "      <td>-21.289984</td>\n",
              "      <td>3.964798</td>\n",
              "      <td>-9.839762</td>\n",
              "      <td>-10.166144</td>\n",
              "      <td>-10.264181</td>\n",
              "      <td>-3.585335</td>\n",
              "      <td>-3.490611</td>\n",
              "      <td>-7.722133</td>\n",
              "      <td>2.0</td>\n",
              "    </tr>\n",
              "  </tbody>\n",
              "</table>\n",
              "<p>13904 rows × 14 columns</p>\n",
              "</div>"
            ],
            "text/plain": [
              "              x1         x2         x3  ...        x12        x13  class\n",
              "0      16.201308   1.319581  -5.111306  ... -10.609682  -0.506709    0.0\n",
              "1      13.441872  -0.514658 -10.127126  ...   0.186471 -12.314925    1.0\n",
              "2      14.348592  -6.387910  -7.370324  ...  -1.209222 -10.936381    2.0\n",
              "3      14.331497  -0.331736  -3.411798  ...  -5.285241  -7.684324    1.0\n",
              "4      14.621738  -3.173315   1.708869  ... -11.623953  -8.353573    1.0\n",
              "...          ...        ...        ...  ...        ...        ...    ...\n",
              "13899  14.357939   7.543944  -1.088752  ...  -0.737387  -7.590883    2.0\n",
              "13900  15.994212  -5.502135  -2.019694  ...   2.467190  -4.218726    2.0\n",
              "13901  15.384082  12.272051 -19.196599  ...  -2.820961  -6.420600    2.0\n",
              "13902  12.892739  -6.686172   2.322560  ...  -9.320735  -8.058829    2.0\n",
              "13903  10.053983  -6.416824  -0.175697  ...  -3.490611  -7.722133    2.0\n",
              "\n",
              "[13904 rows x 14 columns]"
            ]
          },
          "metadata": {},
          "execution_count": 12
        }
      ],
      "source": [
        "train"
      ]
    },
    {
      "cell_type": "code",
      "execution_count": 13,
      "metadata": {
        "colab": {
          "base_uri": "https://localhost:8080/",
          "height": 424
        },
        "id": "Kwo9v8am3tJI",
        "outputId": "a246b404-57d6-4842-9aac-540c9ee39556"
      },
      "outputs": [
        {
          "output_type": "execute_result",
          "data": {
            "text/html": [
              "<div>\n",
              "<style scoped>\n",
              "    .dataframe tbody tr th:only-of-type {\n",
              "        vertical-align: middle;\n",
              "    }\n",
              "\n",
              "    .dataframe tbody tr th {\n",
              "        vertical-align: top;\n",
              "    }\n",
              "\n",
              "    .dataframe thead th {\n",
              "        text-align: right;\n",
              "    }\n",
              "</style>\n",
              "<table border=\"1\" class=\"dataframe\">\n",
              "  <thead>\n",
              "    <tr style=\"text-align: right;\">\n",
              "      <th></th>\n",
              "      <th>x1</th>\n",
              "      <th>x2</th>\n",
              "      <th>x3</th>\n",
              "      <th>x4</th>\n",
              "      <th>x5</th>\n",
              "      <th>x6</th>\n",
              "      <th>x7</th>\n",
              "      <th>x8</th>\n",
              "      <th>x9</th>\n",
              "      <th>x10</th>\n",
              "      <th>x11</th>\n",
              "      <th>x12</th>\n",
              "      <th>x13</th>\n",
              "      <th>class</th>\n",
              "    </tr>\n",
              "  </thead>\n",
              "  <tbody>\n",
              "    <tr>\n",
              "      <th>0</th>\n",
              "      <td>12.568621</td>\n",
              "      <td>-3.182065</td>\n",
              "      <td>0.289685</td>\n",
              "      <td>4.674709</td>\n",
              "      <td>-6.915367</td>\n",
              "      <td>-1.581370</td>\n",
              "      <td>-6.730985</td>\n",
              "      <td>-8.704468</td>\n",
              "      <td>-6.640114</td>\n",
              "      <td>-8.035935</td>\n",
              "      <td>-12.208996</td>\n",
              "      <td>-2.752123</td>\n",
              "      <td>-8.269605</td>\n",
              "      <td>2.0</td>\n",
              "    </tr>\n",
              "    <tr>\n",
              "      <th>1</th>\n",
              "      <td>15.920498</td>\n",
              "      <td>-4.644190</td>\n",
              "      <td>-3.915210</td>\n",
              "      <td>-4.115700</td>\n",
              "      <td>-4.551232</td>\n",
              "      <td>-12.280932</td>\n",
              "      <td>-18.406129</td>\n",
              "      <td>-8.101645</td>\n",
              "      <td>4.152856</td>\n",
              "      <td>-14.897206</td>\n",
              "      <td>-9.717921</td>\n",
              "      <td>-0.595087</td>\n",
              "      <td>-2.200104</td>\n",
              "      <td>2.0</td>\n",
              "    </tr>\n",
              "    <tr>\n",
              "      <th>2</th>\n",
              "      <td>12.152084</td>\n",
              "      <td>-4.334252</td>\n",
              "      <td>0.166728</td>\n",
              "      <td>9.373140</td>\n",
              "      <td>-3.881491</td>\n",
              "      <td>-9.449358</td>\n",
              "      <td>-9.934307</td>\n",
              "      <td>-8.936363</td>\n",
              "      <td>-12.808627</td>\n",
              "      <td>12.151831</td>\n",
              "      <td>-7.061753</td>\n",
              "      <td>2.329170</td>\n",
              "      <td>-11.791472</td>\n",
              "      <td>2.0</td>\n",
              "    </tr>\n",
              "    <tr>\n",
              "      <th>3</th>\n",
              "      <td>14.352157</td>\n",
              "      <td>-3.209276</td>\n",
              "      <td>6.846610</td>\n",
              "      <td>-11.668230</td>\n",
              "      <td>-2.827499</td>\n",
              "      <td>-1.861888</td>\n",
              "      <td>-17.208527</td>\n",
              "      <td>3.961933</td>\n",
              "      <td>-3.565307</td>\n",
              "      <td>-6.282839</td>\n",
              "      <td>-6.702186</td>\n",
              "      <td>-6.877130</td>\n",
              "      <td>-0.105685</td>\n",
              "      <td>0.0</td>\n",
              "    </tr>\n",
              "    <tr>\n",
              "      <th>4</th>\n",
              "      <td>15.724611</td>\n",
              "      <td>-9.154384</td>\n",
              "      <td>-3.141408</td>\n",
              "      <td>-6.210158</td>\n",
              "      <td>-8.251933</td>\n",
              "      <td>-6.306669</td>\n",
              "      <td>-13.302607</td>\n",
              "      <td>-3.596716</td>\n",
              "      <td>-4.011056</td>\n",
              "      <td>-3.417552</td>\n",
              "      <td>-0.300093</td>\n",
              "      <td>-1.782279</td>\n",
              "      <td>-8.262789</td>\n",
              "      <td>2.0</td>\n",
              "    </tr>\n",
              "    <tr>\n",
              "      <th>...</th>\n",
              "      <td>...</td>\n",
              "      <td>...</td>\n",
              "      <td>...</td>\n",
              "      <td>...</td>\n",
              "      <td>...</td>\n",
              "      <td>...</td>\n",
              "      <td>...</td>\n",
              "      <td>...</td>\n",
              "      <td>...</td>\n",
              "      <td>...</td>\n",
              "      <td>...</td>\n",
              "      <td>...</td>\n",
              "      <td>...</td>\n",
              "      <td>...</td>\n",
              "    </tr>\n",
              "    <tr>\n",
              "      <th>3470</th>\n",
              "      <td>14.178583</td>\n",
              "      <td>-0.647307</td>\n",
              "      <td>-13.514870</td>\n",
              "      <td>8.727378</td>\n",
              "      <td>-27.218727</td>\n",
              "      <td>-15.233047</td>\n",
              "      <td>-15.932683</td>\n",
              "      <td>-7.823875</td>\n",
              "      <td>-12.382528</td>\n",
              "      <td>2.735011</td>\n",
              "      <td>-9.083495</td>\n",
              "      <td>2.116776</td>\n",
              "      <td>-3.573112</td>\n",
              "      <td>2.0</td>\n",
              "    </tr>\n",
              "    <tr>\n",
              "      <th>3471</th>\n",
              "      <td>10.707688</td>\n",
              "      <td>-6.362740</td>\n",
              "      <td>-1.641224</td>\n",
              "      <td>-1.949204</td>\n",
              "      <td>-7.217769</td>\n",
              "      <td>-2.114914</td>\n",
              "      <td>-5.031869</td>\n",
              "      <td>-2.418242</td>\n",
              "      <td>-3.821109</td>\n",
              "      <td>-2.913611</td>\n",
              "      <td>-8.416610</td>\n",
              "      <td>-1.269287</td>\n",
              "      <td>-7.298061</td>\n",
              "      <td>2.0</td>\n",
              "    </tr>\n",
              "    <tr>\n",
              "      <th>3472</th>\n",
              "      <td>8.085683</td>\n",
              "      <td>-0.842275</td>\n",
              "      <td>-0.897021</td>\n",
              "      <td>-10.806420</td>\n",
              "      <td>-21.086045</td>\n",
              "      <td>-19.411597</td>\n",
              "      <td>-2.762494</td>\n",
              "      <td>-2.220293</td>\n",
              "      <td>-6.966706</td>\n",
              "      <td>-10.014067</td>\n",
              "      <td>-6.921709</td>\n",
              "      <td>-11.469490</td>\n",
              "      <td>-6.847378</td>\n",
              "      <td>2.0</td>\n",
              "    </tr>\n",
              "    <tr>\n",
              "      <th>3473</th>\n",
              "      <td>12.551941</td>\n",
              "      <td>-3.021710</td>\n",
              "      <td>-4.420894</td>\n",
              "      <td>6.479005</td>\n",
              "      <td>-5.789734</td>\n",
              "      <td>-27.700398</td>\n",
              "      <td>-18.004232</td>\n",
              "      <td>-7.178766</td>\n",
              "      <td>-8.826483</td>\n",
              "      <td>-13.549135</td>\n",
              "      <td>-12.161819</td>\n",
              "      <td>-3.763448</td>\n",
              "      <td>-7.888786</td>\n",
              "      <td>2.0</td>\n",
              "    </tr>\n",
              "    <tr>\n",
              "      <th>3474</th>\n",
              "      <td>8.524700</td>\n",
              "      <td>0.307867</td>\n",
              "      <td>-3.625997</td>\n",
              "      <td>-6.237084</td>\n",
              "      <td>-17.095646</td>\n",
              "      <td>-19.406580</td>\n",
              "      <td>-3.298738</td>\n",
              "      <td>-6.295300</td>\n",
              "      <td>-11.476123</td>\n",
              "      <td>-12.571139</td>\n",
              "      <td>-10.992193</td>\n",
              "      <td>-9.661388</td>\n",
              "      <td>-2.591400</td>\n",
              "      <td>2.0</td>\n",
              "    </tr>\n",
              "  </tbody>\n",
              "</table>\n",
              "<p>3475 rows × 14 columns</p>\n",
              "</div>"
            ],
            "text/plain": [
              "             x1        x2         x3  ...        x12        x13  class\n",
              "0     12.568621 -3.182065   0.289685  ...  -2.752123  -8.269605    2.0\n",
              "1     15.920498 -4.644190  -3.915210  ...  -0.595087  -2.200104    2.0\n",
              "2     12.152084 -4.334252   0.166728  ...   2.329170 -11.791472    2.0\n",
              "3     14.352157 -3.209276   6.846610  ...  -6.877130  -0.105685    0.0\n",
              "4     15.724611 -9.154384  -3.141408  ...  -1.782279  -8.262789    2.0\n",
              "...         ...       ...        ...  ...        ...        ...    ...\n",
              "3470  14.178583 -0.647307 -13.514870  ...   2.116776  -3.573112    2.0\n",
              "3471  10.707688 -6.362740  -1.641224  ...  -1.269287  -7.298061    2.0\n",
              "3472   8.085683 -0.842275  -0.897021  ... -11.469490  -6.847378    2.0\n",
              "3473  12.551941 -3.021710  -4.420894  ...  -3.763448  -7.888786    2.0\n",
              "3474   8.524700  0.307867  -3.625997  ...  -9.661388  -2.591400    2.0\n",
              "\n",
              "[3475 rows x 14 columns]"
            ]
          },
          "metadata": {},
          "execution_count": 13
        }
      ],
      "source": [
        "test"
      ]
    },
    {
      "cell_type": "markdown",
      "metadata": {
        "id": "a-3ZnIUo51oN"
      },
      "source": [
        "**Loading the required libraries**"
      ]
    },
    {
      "cell_type": "code",
      "execution_count": 15,
      "metadata": {
        "id": "68A-Otat56aX"
      },
      "outputs": [],
      "source": [
        "from sklearn.model_selection import train_test_split\n",
        "from sklearn.ensemble import RandomForestClassifier\n",
        "from sklearn.datasets import make_classification\n",
        "from sklearn.metrics import accuracy_score, f1_score\n",
        "from sklearn.model_selection import cross_val_score\n",
        "from sklearn import metrics\n",
        "from sklearn.model_selection import ShuffleSplit\n",
        "from sklearn import svm\n",
        "from sklearn.neural_network import MLPClassifier\n",
        "from sklearn.ensemble import BaggingClassifier\n",
        "from sklearn.neighbors import KNeighborsClassifier\n",
        "from sklearn.model_selection import cross_validate\n",
        "from sklearn.metrics import confusion_matrix\n",
        "from sklearn.metrics import classification_report\n",
        "import seaborn as sns"
      ]
    },
    {
      "cell_type": "code",
      "execution_count": 20,
      "metadata": {
        "id": "9zHCJkRR7NyK"
      },
      "outputs": [],
      "source": [
        "X = dataSet.drop(['class'], axis=1).to_numpy()\n",
        "y = dataSet['class']"
      ]
    },
    {
      "cell_type": "code",
      "execution_count": 21,
      "metadata": {
        "colab": {
          "base_uri": "https://localhost:8080/"
        },
        "id": "8lDjBVAx9zH-",
        "outputId": "606ad90a-298b-4cae-8d5c-9d3e84e7c104"
      },
      "outputs": [
        {
          "output_type": "execute_result",
          "data": {
            "text/plain": [
              "(17379, 13)"
            ]
          },
          "metadata": {},
          "execution_count": 21
        }
      ],
      "source": [
        "X.shape"
      ]
    },
    {
      "cell_type": "code",
      "execution_count": 22,
      "metadata": {
        "colab": {
          "base_uri": "https://localhost:8080/"
        },
        "id": "oO-6hsXK9z6T",
        "outputId": "514b91e2-1e92-44be-e06f-17311136fd4e"
      },
      "outputs": [
        {
          "output_type": "execute_result",
          "data": {
            "text/plain": [
              "(17379,)"
            ]
          },
          "metadata": {},
          "execution_count": 22
        }
      ],
      "source": [
        "y.shape"
      ]
    },
    {
      "cell_type": "code",
      "execution_count": 23,
      "metadata": {
        "id": "Gsi8kd6M91sD"
      },
      "outputs": [],
      "source": [
        "X_train = train.drop(['class'], axis=1).to_numpy()\n",
        "y_train = train['class']\n",
        "X_test = test.drop(['class'], axis=1).to_numpy()\n",
        "y_test = test['class']"
      ]
    },
    {
      "cell_type": "markdown",
      "metadata": {
        "id": "uc-faeZCLXhn"
      },
      "source": [
        "#**Part 1**"
      ]
    },
    {
      "cell_type": "code",
      "execution_count": null,
      "metadata": {
        "id": "4W4sucHq-G6r"
      },
      "outputs": [],
      "source": [
        "accuracy_list = []\n",
        "f1_list = []\n",
        "for i in np.arange(10):\n",
        "  knn = KNeighborsClassifier(n_neighbors=i+1)\n",
        "  accuracy_list.append((cross_val_score(knn, X_train, y_train, cv=5, scoring='accuracy')).mean())\n",
        "  f1_list.append((cross_val_score(knn, X_train, y_train, cv=5, scoring='f1_macro')).mean())"
      ]
    },
    {
      "cell_type": "code",
      "execution_count": null,
      "metadata": {
        "colab": {
          "base_uri": "https://localhost:8080/",
          "height": 295
        },
        "id": "P8AbyNz285Fi",
        "outputId": "8f0ddbc5-bcf9-43e6-ee41-d76e8ef0c8f8"
      },
      "outputs": [
        {
          "data": {
            "image/png": "[encoded data removed]",
            "text/plain": [
              "<Figure size 432x288 with 1 Axes>"
            ]
          },
          "metadata": {},
          "output_type": "display_data"
        }
      ],
      "source": [
        "# plotting Accuracy and F1 Score\n",
        "plt.plot(np.arange(1, 11), accuracy_list, \"-b\", label=\"Accuracy\")\n",
        "plt.plot(np.arange(1, 11), f1_list, \"-r\", label=\"F1 Score\")\n",
        "plt.title('Graph of Accuracy and F1 Score')\n",
        "plt.xlabel('Value of K')\n",
        "plt.ylabel('Accuracy and F1 Score')\n",
        "plt.legend(loc=\"upper right\")\n",
        "plt.show()"
      ]
    },
    {
      "cell_type": "code",
      "execution_count": null,
      "metadata": {
        "id": "c7EmNCYj863l"
      },
      "outputs": [],
      "source": [
        "knn = KNeighborsClassifier(n_neighbors=3)\n",
        "knn_cv = cross_validate(knn, X_train, y_train, cv=5, scoring = 'neg_mean_squared_error', return_train_score = True)"
      ]
    },
    {
      "cell_type": "code",
      "execution_count": null,
      "metadata": {
        "colab": {
          "base_uri": "https://localhost:8080/",
          "height": 295
        },
        "id": "PTiLmrtYEd7s",
        "outputId": "1dae6d73-d754-4b21-e262-589c2bed5f90"
      },
      "outputs": [
        {
          "data": {
            "image/png": "[encoded data removed]",
            "text/plain": [
              "<Figure size 432x288 with 1 Axes>"
            ]
          },
          "metadata": {},
          "output_type": "display_data"
        }
      ],
      "source": [
        "plt.plot(np.arange(1, 6), knn_cv['train_score'], \"-b\", label=\"Train Loss\")\n",
        "plt.plot(np.arange(1, 6), knn_cv['test_score'], \"-r\", label=\"Test Loss\")\n",
        "plt.title('Validation Loss Plot')\n",
        "plt.xlabel('Value of K')\n",
        "plt.ylabel('Loss')\n",
        "plt.legend(loc=\"best\")\n",
        "plt.show()"
      ]
    },
    {
      "cell_type": "code",
      "execution_count": null,
      "metadata": {
        "id": "7L5y2eFICuCa"
      },
      "outputs": [],
      "source": [
        "bagging_knn = BaggingClassifier(knn, n_estimators=1000)\n",
        "bagging_knn.fit(X_train,y_train)\n",
        "y_pred = bagging_knn.predict(X_test)"
      ]
    },
    {
      "cell_type": "code",
      "execution_count": null,
      "metadata": {
        "colab": {
          "base_uri": "https://localhost:8080/"
        },
        "id": "L7RQAcIrKY4j",
        "outputId": "c1a08b95-7ccf-4ed2-b439-98e47c855da5"
      },
      "outputs": [
        {
          "name": "stdout",
          "output_type": "stream",
          "text": [
            "Accuracy: 81.92805755395683\n"
          ]
        }
      ],
      "source": [
        "acc = accuracy_score(y_test, y_pred)\n",
        "print(\"Accuracy:\", acc*100)"
      ]
    },
    {
      "cell_type": "code",
      "execution_count": null,
      "metadata": {
        "colab": {
          "base_uri": "https://localhost:8080/",
          "height": 279
        },
        "id": "Rthor5ZQKUz-",
        "outputId": "c8434cc4-57a1-4438-b7be-480af4138b77"
      },
      "outputs": [
        {
          "data": {
            "image/png": "[encoded data removed]",
            "text/plain": [
              "<Figure size 432x288 with 2 Axes>"
            ]
          },
          "metadata": {},
          "output_type": "display_data"
        }
      ],
      "source": [
        "cm = confusion_matrix(y_test, y_pred)\n",
        "sns.heatmap(cm, annot=True, fmt = 'd', cmap=\"Blues\", annot_kws = {'size': 16})\n",
        "plt.xlabel('Predicted')\n",
        "plt.ylabel('Actual');"
      ]
    },
    {
      "cell_type": "code",
      "execution_count": null,
      "metadata": {
        "colab": {
          "base_uri": "https://localhost:8080/"
        },
        "id": "ZGi4lKl3A7ce",
        "outputId": "d1dd95fe-349b-4411-9011-7f99caed93e8"
      },
      "outputs": [
        {
          "name": "stdout",
          "output_type": "stream",
          "text": [
            "Classification Report:\n",
            "               precision    recall  f1-score   support\n",
            "\n",
            "         0.0       0.80      0.81      0.80      1058\n",
            "         1.0       0.83      0.78      0.80      1060\n",
            "         2.0       0.83      0.86      0.84      1357\n",
            "\n",
            "    accuracy                           0.82      3475\n",
            "   macro avg       0.82      0.82      0.82      3475\n",
            "weighted avg       0.82      0.82      0.82      3475\n",
            "\n"
          ]
        }
      ],
      "source": [
        "cr = classification_report(y_test,y_pred)\n",
        "print('Classification Report:\\n', cr)"
      ]
    },
    {
      "cell_type": "markdown",
      "metadata": {
        "id": "oGZIYvnnPowy"
      },
      "source": [
        "#**Part 2**"
      ]
    },
    {
      "cell_type": "code",
      "execution_count": null,
      "metadata": {
        "id": "wYtClNiy-3mo"
      },
      "outputs": [],
      "source": [
        "s = svm.SVC(kernel='rbf',gamma = 0.01, C = 10)\n",
        "score = cross_val_score(s, X_train, y_train, cv=5, scoring='neg_mean_squared_error')"
      ]
    },
    {
      "cell_type": "code",
      "execution_count": null,
      "metadata": {
        "colab": {
          "base_uri": "https://localhost:8080/",
          "height": 295
        },
        "id": "dwZiHKsgj30T",
        "outputId": "cadd7e2b-9dd3-4a88-beaf-7211e8d7fc35"
      },
      "outputs": [
        {
          "data": {
            "image/png": "[encoded data removed]",
            "text/plain": [
              "<Figure size 432x288 with 1 Axes>"
            ]
          },
          "metadata": {},
          "output_type": "display_data"
        }
      ],
      "source": [
        "# import sklearn\n",
        "import numpy as np\n",
        "# sorted(sklearn.metrics.SCORERS.keys())\n",
        "x = np.arange(1,len(score)+1,1)\n",
        "plt.plot(x,score)\n",
        "plt.title('Loss graph')\n",
        "plt.xlabel('Fold')\n",
        "plt.ylabel('Loss')\n",
        "# plt.legend(loc=\"upper right\")\n",
        "plt.show()"
      ]
    },
    {
      "cell_type": "code",
      "execution_count": null,
      "metadata": {
        "id": "qmYdPLPtSK68"
      },
      "outputs": [],
      "source": [
        "s = svm.SVC(kernel='rbf',gamma = 0.01,C = 10)\n",
        "s.fit(X_train, y_train)\n",
        "y_pred = s.predict(X_test)"
      ]
    },
    {
      "cell_type": "code",
      "execution_count": null,
      "metadata": {
        "colab": {
          "base_uri": "https://localhost:8080/"
        },
        "id": "RgVfUyEmj8zA",
        "outputId": "42e0cec7-5cab-4992-8a79-382249e16ba0"
      },
      "outputs": [
        {
          "name": "stdout",
          "output_type": "stream",
          "text": [
            "Accuracy: 82.53237410071942\n"
          ]
        }
      ],
      "source": [
        "acc = accuracy_score(y_test, y_pred)\n",
        "print(\"Accuracy:\", acc*100)"
      ]
    },
    {
      "cell_type": "code",
      "execution_count": null,
      "metadata": {
        "colab": {
          "base_uri": "https://localhost:8080/",
          "height": 279
        },
        "id": "PtXNi1mHdMLd",
        "outputId": "6a1ccdbb-689e-4753-f8db-d42e888aa1c3"
      },
      "outputs": [
        {
          "data": {
            "image/png": "[encoded data removed]",
            "text/plain": [
              "<Figure size 432x288 with 2 Axes>"
            ]
          },
          "metadata": {},
          "output_type": "display_data"
        }
      ],
      "source": [
        "cm = confusion_matrix(y_test, y_pred)\n",
        "sns.heatmap(cm, annot=True, fmt = 'd', cmap=\"Blues\", annot_kws = {'size': 16})\n",
        "plt.xlabel('Predicted')\n",
        "plt.ylabel('Actual');"
      ]
    },
    {
      "cell_type": "code",
      "execution_count": null,
      "metadata": {
        "colab": {
          "base_uri": "https://localhost:8080/"
        },
        "id": "sYa_jKEgdMe1",
        "outputId": "30acc8d6-1067-4bcd-c4b3-9796d0cda637"
      },
      "outputs": [
        {
          "name": "stdout",
          "output_type": "stream",
          "text": [
            "Classification Report:\n",
            "               precision    recall  f1-score   support\n",
            "\n",
            "         0.0       0.80      0.81      0.80      1058\n",
            "         1.0       0.82      0.81      0.81      1060\n",
            "         2.0       0.85      0.85      0.85      1357\n",
            "\n",
            "    accuracy                           0.83      3475\n",
            "   macro avg       0.82      0.82      0.82      3475\n",
            "weighted avg       0.83      0.83      0.83      3475\n",
            "\n"
          ]
        }
      ],
      "source": [
        "cr = classification_report(y_test,y_pred)\n",
        "print('Classification Report:\\n', cr)"
      ]
    },
    {
      "cell_type": "markdown",
      "metadata": {
        "id": "umk-Ktew0Anj"
      },
      "source": [
        "#**Part 3**"
      ]
    },
    {
      "cell_type": "code",
      "execution_count": 24,
      "metadata": {
        "id": "ilaRZAfwkE83"
      },
      "outputs": [],
      "source": [
        "nn_model = MLPClassifier(hidden_layer_sizes=([1500,1000,500,250,120,50,20]), random_state=42, max_iter = 10000, activation='relu')"
      ]
    },
    {
      "cell_type": "code",
      "source": [
        "bagging_nn = BaggingClassifier(nn_model)\n",
        "bagging_nn.fit(X_train, y_train)"
      ],
      "metadata": {
        "id": "ZXuGa81BrL76"
      },
      "execution_count": null,
      "outputs": []
    },
    {
      "cell_type": "code",
      "execution_count": 26,
      "metadata": {
        "id": "y-e9nwIYkwwY"
      },
      "outputs": [],
      "source": [
        "y_pred = bagging_nn.predict(X_test)"
      ]
    },
    {
      "cell_type": "code",
      "execution_count": 27,
      "metadata": {
        "id": "nspxtEADk1Xk",
        "colab": {
          "base_uri": "https://localhost:8080/"
        },
        "outputId": "dbcff063-ee0e-4bb1-c1b9-3c85c99c0ab8"
      },
      "outputs": [
        {
          "output_type": "stream",
          "name": "stdout",
          "text": [
            "Accuracy: 79.22302158273381\n"
          ]
        }
      ],
      "source": [
        "acc = accuracy_score(y_test, y_pred)\n",
        "print(\"Accuracy:\", acc*100)"
      ]
    },
    {
      "cell_type": "code",
      "execution_count": 28,
      "metadata": {
        "id": "hOkuzbRRk4he",
        "colab": {
          "base_uri": "https://localhost:8080/",
          "height": 279
        },
        "outputId": "d787680c-3800-4685-dc9b-863783b4a229"
      },
      "outputs": [
        {
          "output_type": "display_data",
          "data": {
            "image/png": "[encoded data removed]",
            "text/plain": [
              "<Figure size 432x288 with 2 Axes>"
            ]
          },
          "metadata": {
            "needs_background": "light"
          }
        }
      ],
      "source": [
        "cm = confusion_matrix(y_test, y_pred)\n",
        "sns.heatmap(cm, annot=True, fmt = 'd', cmap=\"Blues\", annot_kws = {'size': 16})\n",
        "plt.xlabel('Predicted')\n",
        "plt.ylabel('Actual');"
      ]
    },
    {
      "cell_type": "code",
      "execution_count": 29,
      "metadata": {
        "id": "A6ieHdAf0zNo",
        "colab": {
          "base_uri": "https://localhost:8080/"
        },
        "outputId": "6a3f4e6e-7978-4130-efd1-f172b5dcab0d"
      },
      "outputs": [
        {
          "output_type": "stream",
          "name": "stdout",
          "text": [
            "Classification Report:\n",
            "               precision    recall  f1-score   support\n",
            "\n",
            "         0.0       0.79      0.74      0.77      1058\n",
            "         1.0       0.80      0.76      0.78      1060\n",
            "         2.0       0.78      0.86      0.82      1357\n",
            "\n",
            "    accuracy                           0.79      3475\n",
            "   macro avg       0.79      0.79      0.79      3475\n",
            "weighted avg       0.79      0.79      0.79      3475\n",
            "\n"
          ]
        }
      ],
      "source": [
        "cr = classification_report(y_test,y_pred)\n",
        "print('Classification Report:\\n', cr)"
      ]
    },
    {
      "cell_type": "code",
      "execution_count": null,
      "metadata": {
        "id": "pXfCcORQ33Vq"
      },
      "outputs": [],
      "source": [
        ""
      ]
    }
  ],
  "metadata": {
    "accelerator": "GPU",
    "colab": {
      "collapsed_sections": [],
      "name": "23100008_23100238_23100243_23100247_23100288_group35.ipynb",
      "provenance": []
    },
    "kernelspec": {
      "display_name": "Python 3",
      "name": "python3"
    }
  },
  "nbformat": 4,
  "nbformat_minor": 0
}